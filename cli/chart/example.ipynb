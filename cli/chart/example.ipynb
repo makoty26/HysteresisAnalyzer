{
  "cells": [
    {
      "cell_type": "markdown",
      "metadata": {
        "id": "AA4OyhZVyUl3"
      },
      "source": [
        "# ドライブのマウント"
      ]
    },
    {
      "cell_type": "code",
      "execution_count": null,
      "metadata": {
        "id": "Eqk3HxJXyYMt"
      },
      "outputs": [],
      "source": [
        "def is_colab():\n",
        "    try:\n",
        "        import google.colab\n",
        "        return True\n",
        "    except ImportError:\n",
        "        return False\n",
        "\n",
        "if is_colab():\n",
        "    from google.colab import drive\n",
        "    drive.mount('/content/drive')"
      ]
    },
    {
      "cell_type": "markdown",
      "metadata": {
        "id": "9NrRHcjlyaTU"
      },
      "source": [
        "# ツールのインストール"
      ]
    },
    {
      "cell_type": "code",
      "execution_count": null,
      "metadata": {
        "colab": {
          "base_uri": "https://localhost:8080/"
        },
        "id": "rbRLI3aLYH7H",
        "outputId": "b1219b5a-94ca-43ca-e19c-8a3ea766e755"
      },
      "outputs": [],
      "source": [
        "!rm -rf HysteresisAnalyzer/\n",
        "!git clone https://github.com/shogo-hs/HysteresisAnalyzer.git\n",
        "!pip install HysteresisAnalyzer/"
      ]
    },
    {
      "cell_type": "markdown",
      "metadata": {
        "id": "RuqF0kPJyScr"
      },
      "source": [
        "# 使用するツールの呼び出し"
      ]
    },
    {
      "cell_type": "code",
      "execution_count": 7,
      "metadata": {
        "id": "6sETT9q2XrEF"
      },
      "outputs": [],
      "source": [
        "import glob\n",
        "import os\n",
        "import gc\n",
        "from tqdm import tqdm\n",
        "import matplotlib.pyplot as plt\n",
        "import tempfile\n",
        "\n",
        "from hystan.raw_data_processor import process_csv\n",
        "from hystan.image import plot_chart, create_empty_figure, combine_figures, generate_html_from_images\n",
        "from hystan.utils import get_existing_elm_nos"
      ]
    },
    {
      "cell_type": "markdown",
      "metadata": {
        "id": "2OaxodSDyiiz"
      },
      "source": [
        "# パラメータの設定"
      ]
    },
    {
      "cell_type": "code",
      "execution_count": 4,
      "metadata": {
        "id": "winJNCHaXc90"
      },
      "outputs": [],
      "source": [
        "CSV_DIR = \"/path/to/csv_data/\"  # CSVファイルがあるディレクトリ\n",
        "X_COLUMN = \"H(kOe)\"  # x軸に使うカラム名\n",
        "Y_COLUMN1 = \"Rh(Ω)\"  # y軸に使うカラム名\n",
        "Y_COLUMN2 = \"dRh/dH(mΩ/Oe)\"  # y軸に使うカラム名\n",
        "FIGSIZE = (8, 8)  # 画像のサイズ\n",
        "SAVE_PATH = f\"/path/to/output/output.html\"  # 画像を保存するパス\n",
        "\n",
        "CHARTS_PER_IMAGE = 9  # 1枚の画像に表示するチャートの数（変更不要）\n",
        "ELM_NO_MAX = 900  # ELM番号の最大値（変更不要）"
      ]
    },
    {
      "cell_type": "markdown",
      "metadata": {
        "id": "ZKlCpgNyyyre"
      },
      "source": [
        "# データ処理・グラフ作成の実行"
      ]
    },
    {
      "cell_type": "code",
      "execution_count": 5,
      "metadata": {
        "id": "TequwtX_Xc91"
      },
      "outputs": [],
      "source": [
        "csv_files = glob.glob(os.path.join(CSV_DIR, \"*.csv\"))  # ユーザーがアップロードしたファイルを処理\n",
        "elm_nos, missing_elm_nos = get_existing_elm_nos(CSV_DIR, ELM_NO_MAX)    # ELM番号を取得"
      ]
    },
    {
      "cell_type": "code",
      "execution_count": null,
      "metadata": {
        "colab": {
          "base_uri": "https://localhost:8080/"
        },
        "id": "LBODElLVN2ze",
        "outputId": "f3c849c5-8314-49a1-8304-b56d99f86fad"
      },
      "outputs": [],
      "source": [
        "# elm_noが若い順に処理を行う\n",
        "with tempfile.TemporaryDirectory() as tmpdir:\n",
        "    img_no = 1\n",
        "    charts = []\n",
        "    for elm_no in tqdm(range(1, ELM_NO_MAX + 1)):\n",
        "        csv_path = os.path.join(CSV_DIR, f\"RcpNo=1(Hp-R)_ElmNo={elm_no}.csv\")\n",
        "\n",
        "        # elm_noが存在しない場合は空のグラフを作成\n",
        "        if elm_no in missing_elm_nos:\n",
        "            fig = create_empty_figure(FIGSIZE)\n",
        "        # elm_noが存在する場合はデータを処理してグラフを作成\n",
        "        else:\n",
        "            a2_value, df = process_csv(csv_path)\n",
        "            title = f\"X={a2_value['X']}, Y={a2_value['Y']}, CAD={a2_value['CAD']} (elm_no={elm_no})\"\n",
        "            fig = plot_chart(\n",
        "                data_df=df,\n",
        "                x_column=X_COLUMN,\n",
        "                y_column1=Y_COLUMN1,\n",
        "                y_column2=Y_COLUMN2,\n",
        "                title=title,\n",
        "                figsize=FIGSIZE,\n",
        "            )\n",
        "        charts.append(fig)\n",
        "        plt.close(fig)\n",
        "        del fig\n",
        "        gc.collect()\n",
        "\n",
        "        # 9枚の画像を作成したら画像を結合して一時ディレクトリに保存\n",
        "        if len(charts) ==9:\n",
        "            combined_fig = combine_figures(charts)\n",
        "            combined_fig.savefig(os.path.join(tmpdir, f\"{str(img_no).zfill(5)}.png\"))\n",
        "            plt.close(combined_fig)\n",
        "            charts = []\n",
        "            img_no += 1\n",
        "\n",
        "            del combined_fig\n",
        "            gc.collect()\n",
        "\n",
        "    # 一時ディレクトリ内の画像を結合してHTMLファイルを作成(10x10のグリッド)\n",
        "    generate_html_from_images(\n",
        "        input_dir=tmpdir,\n",
        "        output_html=SAVE_PATH,\n",
        "        columns=10,\n",
        "        max_size=1000,\n",
        "        )"
      ]
    }
  ],
  "metadata": {
    "colab": {
      "provenance": []
    },
    "kernelspec": {
      "display_name": ".venv",
      "language": "python",
      "name": "python3"
    },
    "language_info": {
      "codemirror_mode": {
        "name": "ipython",
        "version": 3
      },
      "file_extension": ".py",
      "mimetype": "text/x-python",
      "name": "python",
      "nbconvert_exporter": "python",
      "pygments_lexer": "ipython3",
      "version": "3.11.10"
    }
  },
  "nbformat": 4,
  "nbformat_minor": 0
}
